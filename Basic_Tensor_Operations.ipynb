{
  "nbformat": 4,
  "nbformat_minor": 0,
  "metadata": {
    "colab": {
      "name": "Basic_Tensor_Operations",
      "provenance": [],
      "collapsed_sections": []
    },
    "kernelspec": {
      "name": "python3",
      "display_name": "Python 3"
    }
  },
  "cells": [
    {
      "cell_type": "markdown",
      "metadata": {
        "id": "TiVlCAT-Bw_n"
      },
      "source": [
        "In this repository, we will perform different tensor operations as well as use [GradientTape](https://www.tensorflow.org/api_docs/python/tf/GradientTape). These are important building blocks for building a complete custom model."
      ]
    },
    {
      "cell_type": "code",
      "metadata": {
        "id": "6XbWzZuOBTEt"
      },
      "source": [
        "import tensorflow as tf\r\n",
        "import numpy as np"
      ],
      "execution_count": null,
      "outputs": []
    },
    {
      "cell_type": "markdown",
      "metadata": {
        "id": "2-pMQGcMB8e1"
      },
      "source": [
        " - [tf.constant]((https://www.tensorflow.org/api_docs/python/tf/constant))\r\n",
        "\r\n",
        "Creates a constant tensor from a tensor-like object. "
      ]
    },
    {
      "cell_type": "code",
      "metadata": {
        "id": "2rFNjpQnBiDV"
      },
      "source": [
        "# Convert NumPy array to Tensor using `tf.constant`\r\n",
        "def tf_constant(array):\r\n",
        "    \"\"\"\r\n",
        "    Args:\r\n",
        "        array (numpy.ndarray): tensor-like array.\r\n",
        "\r\n",
        "    Returns:\r\n",
        "        tensorflow.python.framework.ops.EagerTensor: tensor.\r\n",
        "    \"\"\"\r\n",
        "    tf_constant_array = tf.constant(array)\r\n",
        "    return tf_constant_array"
      ],
      "execution_count": null,
      "outputs": []
    },
    {
      "cell_type": "code",
      "metadata": {
        "id": "9I5md9gNCDrt",
        "colab": {
          "base_uri": "https://localhost:8080/"
        },
        "outputId": "a85aff32-5319-4169-c8c7-39b6ca2649bb"
      },
      "source": [
        "tmp_array = np.arange(1,15)\r\n",
        "x = tf_constant(tmp_array)\r\n",
        "x"
      ],
      "execution_count": null,
      "outputs": [
        {
          "output_type": "execute_result",
          "data": {
            "text/plain": [
              "<tf.Tensor: shape=(14,), dtype=int64, numpy=array([ 1,  2,  3,  4,  5,  6,  7,  8,  9, 10, 11, 12, 13, 14])>"
            ]
          },
          "metadata": {
            "tags": []
          },
          "execution_count": 3
        }
      ]
    },
    {
      "cell_type": "markdown",
      "metadata": {
        "id": "LCcBh5jbEQ-O"
      },
      "source": [
        "- [tf.square](https://www.tensorflow.org/api_docs/python/tf/math/square)\r\n",
        "\r\n",
        "Computes the square of a tensor element-wise."
      ]
    },
    {
      "cell_type": "code",
      "metadata": {
        "id": "bJTn7YAIBpIM"
      },
      "source": [
        "# Square the input tensor\r\n",
        "def tf_square(array):\r\n",
        "    \"\"\"\r\n",
        "    Args:\r\n",
        "        array (numpy.ndarray): tensor-like array.\r\n",
        "\r\n",
        "    Returns:\r\n",
        "        EagerTensor: tensor.\r\n",
        "    \"\"\"\r\n",
        "    # make sure it's a tensor\r\n",
        "    array = tf.constant(array)\r\n",
        "    tf_squared_array = array **2\r\n",
        "    return tf_squared_array "
      ],
      "execution_count": null,
      "outputs": []
    },
    {
      "cell_type": "code",
      "metadata": {
        "id": "bC6xihQyEkut",
        "colab": {
          "base_uri": "https://localhost:8080/"
        },
        "outputId": "8092570c-b9ea-4ffa-bc0f-d7a775674699"
      },
      "source": [
        "tmp_array = tf.constant(np.arange(1, 15))\r\n",
        "x = tf_square(tmp_array)\r\n",
        "x"
      ],
      "execution_count": null,
      "outputs": [
        {
          "output_type": "execute_result",
          "data": {
            "text/plain": [
              "<tf.Tensor: shape=(14,), dtype=int64, numpy=\n",
              "array([  1,   4,   9,  16,  25,  36,  49,  64,  81, 100, 121, 144, 169,\n",
              "       196])>"
            ]
          },
          "metadata": {
            "tags": []
          },
          "execution_count": 5
        }
      ]
    },
    {
      "cell_type": "markdown",
      "metadata": {
        "id": "spvfdlQaCRQ9"
      },
      "source": [
        "- [tf.reshape](https://www.tensorflow.org/api_docs/python/tf/reshape)\r\n",
        "\r\n",
        "Reshapes a tensor."
      ]
    },
    {
      "cell_type": "code",
      "metadata": {
        "id": "MYp-mb6MFqSS"
      },
      "source": [
        "# Reshape tensor into the given shape parameter\r\n",
        "def tf_reshape(array, shape):\r\n",
        "    \"\"\"\r\n",
        "    Args:\r\n",
        "        array (EagerTensor): tensor to reshape.\r\n",
        "        shape (tuple): desired shape.\r\n",
        "\r\n",
        "    Returns:\r\n",
        "        EagerTensor: reshaped tensor.\r\n",
        "    \"\"\"\r\n",
        "    # make sure it's a tensor\r\n",
        "    array = tf.constant(array)\r\n",
        "    tf_reshaped_array = tf.reshape(array,shape)\r\n",
        "    return tf_reshaped_array"
      ],
      "execution_count": null,
      "outputs": []
    },
    {
      "cell_type": "code",
      "metadata": {
        "id": "o1-fkikjCVdE",
        "colab": {
          "base_uri": "https://localhost:8080/"
        },
        "outputId": "e5422119-f3d6-4281-cd3f-b4f153642695"
      },
      "source": [
        "# Check your function\r\n",
        "tmp_array = np.array([10,20,30,40,50,60,70,80,90])\r\n",
        "# Check that your function reshapes a vector into a matrix\r\n",
        "x = tf_reshape(tmp_array, (3, 3))\r\n",
        "x"
      ],
      "execution_count": null,
      "outputs": [
        {
          "output_type": "execute_result",
          "data": {
            "text/plain": [
              "<tf.Tensor: shape=(3, 3), dtype=int64, numpy=\n",
              "array([[10, 20, 30],\n",
              "       [40, 50, 60],\n",
              "       [70, 80, 90]])>"
            ]
          },
          "metadata": {
            "tags": []
          },
          "execution_count": 7
        }
      ]
    },
    {
      "cell_type": "markdown",
      "metadata": {
        "id": "2xgytAkjCaNU"
      },
      "source": [
        " - [tf.cast](https://www.tensorflow.org/api_docs/python/tf/cast)\r\n",
        "\r\n",
        "Casts a tensor to a new type."
      ]
    },
    {
      "cell_type": "code",
      "metadata": {
        "id": "VMFA_4vfCd08"
      },
      "source": [
        "# Cast tensor into the given dtype parameter\r\n",
        "def tf_cast(array, dtype):\r\n",
        "    \"\"\"\r\n",
        "    Args:\r\n",
        "        array (EagerTensor): tensor to be casted.\r\n",
        "        dtype (tensorflow.python.framework.dtypes.DType): desired new type. (Should be a TF dtype!)\r\n",
        "\r\n",
        "    Returns:\r\n",
        "        EagerTensor: casted tensor.\r\n",
        "    \"\"\"\r\n",
        "    # make sure it's a tensor\r\n",
        "    array = tf.constant(array)\r\n",
        "    tf_cast_array = tf.cast(array,dtype)\r\n",
        "    return tf_cast_array"
      ],
      "execution_count": null,
      "outputs": []
    },
    {
      "cell_type": "code",
      "metadata": {
        "id": "-3h0IV7mCf5E",
        "colab": {
          "base_uri": "https://localhost:8080/"
        },
        "outputId": "e4382e1e-0962-4b34-a29d-8dbbbb0b5984"
      },
      "source": [
        "# Check your function\r\n",
        "tmp_array = [10,20,30,40]\r\n",
        "x = tf_cast(tmp_array, tf.float32)\r\n",
        "x"
      ],
      "execution_count": null,
      "outputs": [
        {
          "output_type": "execute_result",
          "data": {
            "text/plain": [
              "<tf.Tensor: shape=(4,), dtype=float32, numpy=array([10., 20., 30., 40.], dtype=float32)>"
            ]
          },
          "metadata": {
            "tags": []
          },
          "execution_count": 9
        }
      ]
    },
    {
      "cell_type": "markdown",
      "metadata": {
        "id": "lGIuGGueCjhM"
      },
      "source": [
        " - [tf.multiply](https://www.tensorflow.org/api_docs/python/tf/multiply)\r\n",
        "\r\n",
        "Returns an element-wise x * y."
      ]
    },
    {
      "cell_type": "code",
      "metadata": {
        "id": "F88BGBzTCmXj"
      },
      "source": [
        "# Multiply tensor1 and tensor2\r\n",
        "def tf_multiply(tensor1, tensor2):\r\n",
        "    \"\"\"\r\n",
        "    Args:\r\n",
        "        tensor1 (EagerTensor): a tensor.\r\n",
        "        tensor2 (EagerTensor): another tensor.\r\n",
        "\r\n",
        "    Returns:\r\n",
        "        EagerTensor: resulting tensor.\r\n",
        "    \"\"\"\r\n",
        "    # make sure these are tensors\r\n",
        "    tensor1 = tf.constant(tensor1)\r\n",
        "    tensor2 = tf.constant(tensor2)\r\n",
        "    product = tf.multiply(tensor1,tensor2)\r\n",
        "    return product"
      ],
      "execution_count": null,
      "outputs": []
    },
    {
      "cell_type": "code",
      "metadata": {
        "id": "brtwDU_5ConM",
        "colab": {
          "base_uri": "https://localhost:8080/"
        },
        "outputId": "0dbb7213-4b60-4948-9776-dcac47e3ece6"
      },
      "source": [
        "# Check your function\r\n",
        "tmp_1 = tf.constant(np.array([[1,2],[3,4]]))\r\n",
        "tmp_2 = tf.constant(np.array(2))\r\n",
        "result = tf_multiply(tmp_1, tmp_2)\r\n",
        "result"
      ],
      "execution_count": null,
      "outputs": [
        {
          "output_type": "execute_result",
          "data": {
            "text/plain": [
              "<tf.Tensor: shape=(2, 2), dtype=int64, numpy=\n",
              "array([[2, 4],\n",
              "       [6, 8]])>"
            ]
          },
          "metadata": {
            "tags": []
          },
          "execution_count": 11
        }
      ]
    },
    {
      "cell_type": "markdown",
      "metadata": {
        "id": "fkzwJ_ArCtKc"
      },
      "source": [
        " - [tf.add](https://www.tensorflow.org/api_docs/python/tf/add)\r\n",
        "\r\n",
        "Returns x + y element-wise."
      ]
    },
    {
      "cell_type": "code",
      "metadata": {
        "id": "IFITom8JCvts"
      },
      "source": [
        "# Add tensor1 and tensor2\r\n",
        "def tf_add(tensor1, tensor2):\r\n",
        "    \"\"\"\r\n",
        "    Args:\r\n",
        "        tensor1 (EagerTensor): a tensor.\r\n",
        "        tensor2 (EagerTensor): another tensor.\r\n",
        "\r\n",
        "    Returns:\r\n",
        "        EagerTensor: resulting tensor.\r\n",
        "    \"\"\"\r\n",
        "    tensor1 = tf.constant(tensor1)\r\n",
        "    tensor2 = tf.constant(tensor2)\r\n",
        "    total = tf.add(tensor1,tensor2)\r\n",
        "    return total"
      ],
      "execution_count": null,
      "outputs": []
    },
    {
      "cell_type": "code",
      "metadata": {
        "id": "WevAy034Cxur",
        "colab": {
          "base_uri": "https://localhost:8080/"
        },
        "outputId": "c88a6bd2-3b02-45cc-860e-56959364ef9b"
      },
      "source": [
        "# Check your function\r\n",
        "tmp_1 = tf.constant(np.array([1, 2, 3]))\r\n",
        "tmp_2 = tf.constant(np.array([4, 5, 6]))\r\n",
        "tf_add(tmp_1, tmp_2)"
      ],
      "execution_count": null,
      "outputs": [
        {
          "output_type": "execute_result",
          "data": {
            "text/plain": [
              "<tf.Tensor: shape=(3,), dtype=int64, numpy=array([5, 7, 9])>"
            ]
          },
          "metadata": {
            "tags": []
          },
          "execution_count": 13
        }
      ]
    },
    {
      "cell_type": "markdown",
      "metadata": {
        "id": "4ArwPwMoCzyr"
      },
      "source": [
        " - \r\n",
        " [Gradient Tape](https://www.tensorflow.org/api_docs/python/tf/GradientTape)\r\n",
        " This is important for creating a custom gradient decent."
      ]
    },
    {
      "cell_type": "code",
      "metadata": {
        "id": "XPskQMzvC2sj"
      },
      "source": [
        "def tf_gradient_tape(x):\r\n",
        "    \"\"\"\r\n",
        "    Args:\r\n",
        "        x (EagerTensor): a tensor.\r\n",
        "\r\n",
        "    Returns:\r\n",
        "        EagerTensor: Derivative of z with respect to the input tensor x.\r\n",
        "    \"\"\"\r\n",
        "    with tf.GradientTape() as t:\r\n",
        "        \r\n",
        "    # No gradients will be available if it isnnot being watched.\r\n",
        "        # Record the actions performed on tensor x with `watch`\r\n",
        "        t.watch(x)   \r\n",
        "\r\n",
        "        # Define a polynomial of form 3x^3 - 2x^2 + x\r\n",
        "        y = ((3*x)**3)-((2*x)**2) + x\r\n",
        "\r\n",
        "        # Obtain the sum of the elements in variable y\r\n",
        "        z = tf.reduce_sum(y)\r\n",
        "  \r\n",
        "    # Get the derivative of z with respect to the original input tensor x\r\n",
        "    dz_dx = t.gradient(z,x)\r\n",
        "    \r\n",
        "    return dz_dx"
      ],
      "execution_count": null,
      "outputs": []
    },
    {
      "cell_type": "code",
      "metadata": {
        "id": "bt9kl5xDC49r",
        "colab": {
          "base_uri": "https://localhost:8080/"
        },
        "outputId": "59e4f33c-f36b-4697-f003-d7166093feab"
      },
      "source": [
        "tmp_x = tf.constant(2.0)\r\n",
        "dz_dx = tf_gradient_tape(tmp_x)\r\n",
        "result = dz_dx.numpy()\r\n",
        "result"
      ],
      "execution_count": null,
      "outputs": [
        {
          "output_type": "execute_result",
          "data": {
            "text/plain": [
              "309.0"
            ]
          },
          "metadata": {
            "tags": []
          },
          "execution_count": 15
        }
      ]
    }
  ]
}